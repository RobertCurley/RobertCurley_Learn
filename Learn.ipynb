{
  "nbformat": 4,
  "nbformat_minor": 0,
  "metadata": {
    "colab": {
      "provenance": [],
      "authorship_tag": "ABX9TyM4UUecd05FMa5wKSixqdy1",
      "include_colab_link": true
    },
    "kernelspec": {
      "name": "python3",
      "display_name": "Python 3"
    },
    "language_info": {
      "name": "python"
    }
  },
  "cells": [
    {
      "cell_type": "markdown",
      "metadata": {
        "id": "view-in-github",
        "colab_type": "text"
      },
      "source": [
        "<a href=\"https://colab.research.google.com/github/RobertCurley/RobertCurley_Learn/blob/main/Learn.ipynb\" target=\"_parent\"><img src=\"https://colab.research.google.com/assets/colab-badge.svg\" alt=\"Open In Colab\"/></a>"
      ]
    },
    {
      "cell_type": "code",
      "execution_count": null,
      "metadata": {
        "colab": {
          "base_uri": "https://localhost:8080/"
        },
        "id": "rb-E8zCxsFmJ",
        "outputId": "36741e1b-dad3-4039-95c5-f63fd54fee6d"
      },
      "outputs": [
        {
          "output_type": "stream",
          "name": "stdout",
          "text": [
            "Hello World\n"
          ]
        }
      ],
      "source": [
        "# Write Hello World\n",
        "print(\"Hello World\")"
      ]
    },
    {
      "cell_type": "markdown",
      "source": [
        "## **Basic Calculations with Python**"
      ],
      "metadata": {
        "id": "ta7BVUDbUVa7"
      }
    },
    {
      "cell_type": "code",
      "source": [
        "# Addition \n",
        "# What is 5 plus 5?\n",
        "print(5 + 5)"
      ],
      "metadata": {
        "colab": {
          "base_uri": "https://localhost:8080/"
        },
        "id": "V_Zm1jG0Tdnz",
        "outputId": "7f89e4a2-4978-471b-c686-47b8e9eed378"
      },
      "execution_count": null,
      "outputs": [
        {
          "output_type": "stream",
          "name": "stdout",
          "text": [
            "10\n"
          ]
        }
      ]
    },
    {
      "cell_type": "code",
      "source": [
        "# Substraction \n",
        "# What is 15 minus 5?\n",
        "print( 5 -5)"
      ],
      "metadata": {
        "colab": {
          "base_uri": "https://localhost:8080/"
        },
        "id": "TJqXRXn1UfKm",
        "outputId": "b60cf791-66e8-4454-f5fb-d981ee1e6210"
      },
      "execution_count": null,
      "outputs": [
        {
          "output_type": "stream",
          "name": "stdout",
          "text": [
            "0\n"
          ]
        }
      ]
    },
    {
      "cell_type": "code",
      "source": [
        "# Multiplication \n",
        "#What is 5 multiplied by 10?\n",
        "print(5 * 10)"
      ],
      "metadata": {
        "colab": {
          "base_uri": "https://localhost:8080/"
        },
        "id": "lkoXl2CeUnDm",
        "outputId": "7d1feb6b-e3b7-4a11-ff74-190b19ec3926"
      },
      "execution_count": null,
      "outputs": [
        {
          "output_type": "stream",
          "name": "stdout",
          "text": [
            "50\n"
          ]
        }
      ]
    },
    {
      "cell_type": "code",
      "source": [
        "# Division (What is 150 divided by 10?)\n",
        "print(150 / 10)"
      ],
      "metadata": {
        "colab": {
          "base_uri": "https://localhost:8080/"
        },
        "id": "lfcZgBtsU6wG",
        "outputId": "aea9827e-5821-482b-b5e1-481d3c24c025"
      },
      "execution_count": null,
      "outputs": [
        {
          "output_type": "stream",
          "name": "stdout",
          "text": [
            "15.0\n"
          ]
        }
      ]
    },
    {
      "cell_type": "code",
      "source": [
        "# Modulo {Returns the remainder of a division ie: 18 % 7, -> 7 multipied by 2 = 14 -> 18 - 14 = 4 therefore 18 % 7 = 4}\n",
        "#What is the remainder of 16 divided by 7?\n",
        "print(16 % 7)"
      ],
      "metadata": {
        "colab": {
          "base_uri": "https://localhost:8080/"
        },
        "id": "l0IE9uPYVDvO",
        "outputId": "76a30540-b9f9-4a9e-9671-925b2d0da7ca"
      },
      "execution_count": null,
      "outputs": [
        {
          "output_type": "stream",
          "name": "stdout",
          "text": [
            "2\n"
          ]
        }
      ]
    },
    {
      "cell_type": "code",
      "source": [
        "# Exponentiation: x to the power of y\n",
        "#What is 10 to the power of 2?\n",
        "print(10 ** 2)"
      ],
      "metadata": {
        "colab": {
          "base_uri": "https://localhost:8080/"
        },
        "id": "tYxl7IQ6VzbN",
        "outputId": "a0467722-690c-4c2e-f253-108181604f01"
      },
      "execution_count": null,
      "outputs": [
        {
          "output_type": "stream",
          "name": "stdout",
          "text": [
            "100\n"
          ]
        }
      ]
    },
    {
      "cell_type": "markdown",
      "source": [
        "# **Creating Variable**"
      ],
      "metadata": {
        "id": "06uEhVgFWehS"
      }
    },
    {
      "cell_type": "code",
      "source": [
        "#  Create a variable for the salary of a person earning €100,000\n",
        "Person_A_Salary = 100000\n",
        "print(Person_A_Salary)"
      ],
      "metadata": {
        "colab": {
          "base_uri": "https://localhost:8080/"
        },
        "id": "nuDz9zgsWHdN",
        "outputId": "4234dc4b-246e-444a-beca-fb60d544a266"
      },
      "execution_count": null,
      "outputs": [
        {
          "output_type": "stream",
          "name": "stdout",
          "text": [
            "100000\n"
          ]
        }
      ]
    },
    {
      "cell_type": "markdown",
      "source": [
        "# **Calculating Variables**"
      ],
      "metadata": {
        "id": "DtZeS6SIXDFG"
      }
    },
    {
      "cell_type": "code",
      "source": [
        "# Creating Variables\n",
        "Person_B_Salary = 1000\n",
        "Person_C_Salary = 2000"
      ],
      "metadata": {
        "id": "l3PdsHm9W5bH"
      },
      "execution_count": null,
      "outputs": []
    },
    {
      "cell_type": "code",
      "source": [
        "# Add Person_A_Salary and Person_B_Salary and Person_C_Salary and save as Total_Salary\n",
        "Total_Salary = Person_A_Salary + Person_B_Salary + Person_C_Salary\n",
        "print(Total_Salary)"
      ],
      "metadata": {
        "colab": {
          "base_uri": "https://localhost:8080/"
        },
        "id": "NjBISCthXZCt",
        "outputId": "abcb868e-ac20-4611-8e4f-06257021ec8f"
      },
      "execution_count": null,
      "outputs": [
        {
          "output_type": "stream",
          "name": "stdout",
          "text": [
            "103000\n"
          ]
        }
      ]
    },
    {
      "cell_type": "code",
      "source": [
        "# What percentage of Total_Salary is Person A?\n",
        "print((Person_B_Salary / Total_Salary)*100)"
      ],
      "metadata": {
        "colab": {
          "base_uri": "https://localhost:8080/"
        },
        "id": "XlY8cLnGXuUW",
        "outputId": "80c7a91e-f88d-45f6-aceb-1bec86e79d47"
      },
      "execution_count": null,
      "outputs": [
        {
          "output_type": "stream",
          "name": "stdout",
          "text": [
            "0.9708737864077669\n"
          ]
        }
      ]
    },
    {
      "cell_type": "markdown",
      "source": [
        "# **Data Types**"
      ],
      "metadata": {
        "id": "RIwPVblZYLkC"
      }
    },
    {
      "cell_type": "code",
      "source": [
        "# float: Number with Decimals\n",
        "x = 1.1\n",
        "print(type(x))"
      ],
      "metadata": {
        "colab": {
          "base_uri": "https://localhost:8080/"
        },
        "id": "eYhlhdseYH0N",
        "outputId": "7dfcdb97-f55e-4460-b259-b7c61078bad1"
      },
      "execution_count": null,
      "outputs": [
        {
          "output_type": "stream",
          "name": "stdout",
          "text": [
            "<class 'float'>\n"
          ]
        }
      ]
    },
    {
      "cell_type": "code",
      "source": [
        "# int: Number with no Decimals\n",
        "y = 2\n",
        "print(type(y))"
      ],
      "metadata": {
        "colab": {
          "base_uri": "https://localhost:8080/"
        },
        "id": "atpsfJ1-YiIl",
        "outputId": "8978a663-8f76-477d-ae65-6b6eea18bb6d"
      },
      "execution_count": null,
      "outputs": [
        {
          "output_type": "stream",
          "name": "stdout",
          "text": [
            "<class 'int'>\n"
          ]
        }
      ]
    },
    {
      "cell_type": "code",
      "source": [
        "# str: Text\n",
        "B = \"Hello World\"\n",
        "print(type(B))"
      ],
      "metadata": {
        "colab": {
          "base_uri": "https://localhost:8080/"
        },
        "id": "gnSPpnGiZacq",
        "outputId": "1becb751-f741-49b4-e2ca-b46265666192"
      },
      "execution_count": null,
      "outputs": [
        {
          "output_type": "stream",
          "name": "stdout",
          "text": [
            "<class 'str'>\n"
          ]
        }
      ]
    },
    {
      "cell_type": "code",
      "source": [
        "# bool: True or False statement\n",
        "Z = True\n",
        "A = False\n",
        "print(type(Z))\n",
        "print(type(A))"
      ],
      "metadata": {
        "colab": {
          "base_uri": "https://localhost:8080/"
        },
        "id": "AifE6Zh-Zt80",
        "outputId": "d8cfa5cd-7d7f-4307-ab88-8844293ac30e"
      },
      "execution_count": null,
      "outputs": [
        {
          "output_type": "stream",
          "name": "stdout",
          "text": [
            "<class 'bool'>\n",
            "<class 'bool'>\n"
          ]
        }
      ]
    },
    {
      "cell_type": "markdown",
      "source": [
        "# **Lists**\n",
        "\n",
        "Created by using Square Brackets [  ]"
      ],
      "metadata": {
        "id": "pG9P2OHgaaRS"
      }
    },
    {
      "cell_type": "code",
      "source": [
        "# Create a list for the size of rooms in a house\n",
        "\n",
        "# List of rooms and there corresponding size\n",
        "hall = 5.2\n",
        "kitchen = 20.1\n",
        "bedroom = 15.5\n",
        "bathroom = 10.6\n",
        "\n",
        "House = [hall, kitchen, bedroom, bathroom]\n",
        "\n",
        "print(House)"
      ],
      "metadata": {
        "colab": {
          "base_uri": "https://localhost:8080/"
        },
        "id": "hemraLFpaTnk",
        "outputId": "83cb4878-0c02-4e71-cf70-013ac3091ffa"
      },
      "execution_count": null,
      "outputs": [
        {
          "output_type": "stream",
          "name": "stdout",
          "text": [
            "[5.2, 20.1, 15.5, 10.6]\n"
          ]
        }
      ]
    },
    {
      "cell_type": "code",
      "source": [
        "# Add information to the House list to make it more informative\n",
        "House = [\"Hallway\" , hall, \"Kitchen\", kitchen, \"Bedroom\", bedroom, \"Bathroom\", bathroom]\n",
        "print(House)"
      ],
      "metadata": {
        "colab": {
          "base_uri": "https://localhost:8080/"
        },
        "id": "Mw9RGCHTzYhZ",
        "outputId": "69d95fc2-964b-46fa-9ddf-7a89da700940"
      },
      "execution_count": null,
      "outputs": [
        {
          "output_type": "stream",
          "name": "stdout",
          "text": [
            "['Hallway', 5.2, 'Kitchen', 20.1, 'Bedroom', 15.5, 'Bathroom', 10.6]\n"
          ]
        }
      ]
    },
    {
      "cell_type": "code",
      "source": [
        "# List of List\n",
        "# Protray the information for House as a List of List\n",
        "\n",
        "House = [[\"Hallway\", hall],\n",
        "         [\"Kitchen\", kitchen],\n",
        "         [\"Bedroom\", bedroom],\n",
        "         [\"Bathroom\", bathroom]]\n",
        "\n",
        "print(House)"
      ],
      "metadata": {
        "colab": {
          "base_uri": "https://localhost:8080/"
        },
        "id": "umguZuoO0vi5",
        "outputId": "b166da5a-f4a0-451b-bc01-d85d9261767d"
      },
      "execution_count": null,
      "outputs": [
        {
          "output_type": "stream",
          "name": "stdout",
          "text": [
            "[['Hallway', 5.2], ['Kitchen', 20.1], ['Bedroom', 15.5], ['Bathroom', 10.6]]\n"
          ]
        }
      ]
    },
    {
      "cell_type": "markdown",
      "source": [
        "## Subsetting Lists\n",
        "Pulling Out a specific part of a list ie first/last entry.\n",
        "\n",
        "**Index starts at 0** \n",
        "This means to find the first entry it is x[0].\n",
        "Index can also count from the last entry which is x[-1].\n",
        "\n",
        "When unsure about what index it is but you know the variable.\n",
        "Can use *databasename*.index(x) to find what the index is."
      ],
      "metadata": {
        "id": "M4BhFOKU2vql"
      }
    },
    {
      "cell_type": "code",
      "source": [
        "# Subsetting\n",
        "areas = [\"hallway\", 11.25, \"kitchen\", 18.0, \"living room\", 20.0, \"bedroom\", 10.75, \"bathroom\", 9.50]\n",
        "print(areas)\n",
        "print(areas[1])\n",
        "print(areas[-9]) # Same Result"
      ],
      "metadata": {
        "colab": {
          "base_uri": "https://localhost:8080/"
        },
        "id": "KFXy7Ly71XUJ",
        "outputId": "fa7da06c-b8e2-4e55-c39c-ecc323e64087"
      },
      "execution_count": null,
      "outputs": [
        {
          "output_type": "stream",
          "name": "stdout",
          "text": [
            "['hallway', 11.25, 'kitchen', 18.0, 'living room', 20.0, 'bedroom', 10.75, 'bathroom', 9.5]\n",
            "11.25\n",
            "11.25\n"
          ]
        }
      ]
    },
    {
      "cell_type": "code",
      "source": [
        "# Index check on living room\n",
        "print(areas.index(\"living room\"))"
      ],
      "metadata": {
        "colab": {
          "base_uri": "https://localhost:8080/"
        },
        "id": "lroC1GSa7MbU",
        "outputId": "a8f4d623-85d7-4074-9ac3-49d6bb2f0461"
      },
      "execution_count": null,
      "outputs": [
        {
          "output_type": "stream",
          "name": "stdout",
          "text": [
            "4\n"
          ]
        }
      ]
    },
    {
      "cell_type": "code",
      "source": [
        "# Subsetting and Calculating using areas list from above\n",
        "Living_Sleeping = areas[5] + areas[7]\n",
        "print(Living_Sleeping)\n",
        "\n",
        "# Check\n",
        "Living_Sleeping == 20.0 + 10.75"
      ],
      "metadata": {
        "colab": {
          "base_uri": "https://localhost:8080/"
        },
        "id": "2gBKYezp3WqY",
        "outputId": "fbbb24a2-23fa-4060-ade9-f83d17b4ec88"
      },
      "execution_count": null,
      "outputs": [
        {
          "output_type": "stream",
          "name": "stdout",
          "text": [
            "30.75\n"
          ]
        },
        {
          "output_type": "execute_result",
          "data": {
            "text/plain": [
              "True"
            ]
          },
          "metadata": {},
          "execution_count": 47
        }
      ]
    },
    {
      "cell_type": "code",
      "source": [
        "#Slicing: Used to pull out specific sections of the list (using areas list from above)\n",
        "downstairs = areas[: 6] # If no index before : then start = 0 (First index)\n",
        "downstairs_2 = areas[0 : 6]\n",
        "print(downstairs)\n",
        "print(downstairs_2)\n",
        "\n",
        "upstairs = areas[6 : ] # If no index after : then finsh = Last index\n",
        "upstairs_2 = areas[6 : 11]\n",
        "print(upstairs)\n",
        "print(upstairs_2)"
      ],
      "metadata": {
        "colab": {
          "base_uri": "https://localhost:8080/"
        },
        "id": "ZnwE4TcX5Fon",
        "outputId": "5e1d42ed-c293-4a9c-b96e-ccb70c689f38"
      },
      "execution_count": null,
      "outputs": [
        {
          "output_type": "stream",
          "name": "stdout",
          "text": [
            "['hallway', 11.25, 'kitchen', 18.0, 'living room', 20.0]\n",
            "['hallway', 11.25, 'kitchen', 18.0, 'living room', 20.0]\n",
            "['bedroom', 10.75, 'bathroom', 9.5]\n",
            "['bedroom', 10.75, 'bathroom', 9.5]\n"
          ]
        }
      ]
    },
    {
      "cell_type": "markdown",
      "source": [
        "## Subsetting List of Lists\n",
        "Each Row on the list of list is indexed then the variables inside the list are indexed hence the two entries"
      ],
      "metadata": {
        "id": "bn8d268p82YK"
      }
    },
    {
      "cell_type": "code",
      "source": [
        "#Create List of Lists\n",
        "x = [[\"a\", \"b\", \"c\"],\n",
        "     [\"d\", \"e\", \"f\"],\n",
        "     [\"g\", \"h\", \"i\"]]\n",
        "print(x[2][0:]) # Returns the list with the index of 2, Whole List as all indexs selected [0 : ]\n",
        "print(x[2][1]) # Returns the list with the index of 2 & the value which has the index of 1 in that list [1]"
      ],
      "metadata": {
        "colab": {
          "base_uri": "https://localhost:8080/"
        },
        "id": "z3gpam467xSA",
        "outputId": "f66cb674-e970-4963-c605-c703772be128"
      },
      "execution_count": null,
      "outputs": [
        {
          "output_type": "stream",
          "name": "stdout",
          "text": [
            "['g', 'h', 'i']\n",
            "h\n"
          ]
        }
      ]
    },
    {
      "cell_type": "markdown",
      "source": [
        "## Manipulating Lists\n"
      ],
      "metadata": {
        "id": "_p2pGKVe-dHT"
      }
    },
    {
      "cell_type": "code",
      "source": [
        "# Areas list from before\n",
        "print(areas)"
      ],
      "metadata": {
        "colab": {
          "base_uri": "https://localhost:8080/"
        },
        "id": "2ctqKMMl9DVH",
        "outputId": "bbac270f-28cc-4eea-dcd7-2b17ddc0cf7e"
      },
      "execution_count": null,
      "outputs": [
        {
          "output_type": "stream",
          "name": "stdout",
          "text": [
            "['hallway', 11.25, 'kitchen', 18.0, 'living room', 20.0, 'bedroom', 10.75, 'bathroom', 9.5]\n"
          ]
        }
      ]
    },
    {
      "cell_type": "code",
      "source": [
        "# Using Areas list change the bathroom area to 12.0 & Change the bedroom to sleep_area\n",
        "\n",
        "areas[-1] = 12.0\n",
        "areas[6] = \"sleep_area\"\n",
        "print(areas)"
      ],
      "metadata": {
        "colab": {
          "base_uri": "https://localhost:8080/"
        },
        "id": "WBou5cXA-wWP",
        "outputId": "4b7256bd-6389-4da6-9190-34c4131de4c9"
      },
      "execution_count": null,
      "outputs": [
        {
          "output_type": "stream",
          "name": "stdout",
          "text": [
            "['hallway', 11.25, 'kitchen', 18.0, 'living room', 20.0, 'sleep_area', 10.75, 'bathroom', 12.0]\n"
          ]
        }
      ]
    },
    {
      "cell_type": "code",
      "source": [
        "# Add Garage area to the areas list\n",
        "\n",
        "areas_1 = areas + [\"garage\", 15]\n",
        "print(areas_1)"
      ],
      "metadata": {
        "colab": {
          "base_uri": "https://localhost:8080/"
        },
        "id": "tronvCa6_UsY",
        "outputId": "1caf1ba1-a3f4-46b7-b79f-61551ae77e00"
      },
      "execution_count": null,
      "outputs": [
        {
          "output_type": "stream",
          "name": "stdout",
          "text": [
            "['hallway', 11.25, 'kitchen', 18.0, 'living room', 20.0, 'sleep_area', 10.75, 'bathroom', 12.0, 'garage', 15, 'garage', 15]\n"
          ]
        }
      ]
    },
    {
      "cell_type": "code",
      "source": [],
      "metadata": {
        "id": "g3FhMYem_xog"
      },
      "execution_count": null,
      "outputs": []
    },
    {
      "cell_type": "markdown",
      "source": [
        "# Data Manipulations with Pandas"
      ],
      "metadata": {
        "id": "f5Z_OSEuAC9E"
      }
    },
    {
      "cell_type": "markdown",
      "source": [
        "##Aggregating DataFrames"
      ],
      "metadata": {
        "id": "cl5j5y3yGsrg"
      }
    },
    {
      "cell_type": "markdown",
      "source": [
        "### Pivot Tables\n",
        "\n",
        "*Database_Name*.pivot_table(values=x, index=y, aggfunc=np.*function*)\n",
        "\n",
        "Default = Mean\n"
      ],
      "metadata": {
        "id": "K1YfZ2DaAOK_"
      }
    },
    {
      "cell_type": "markdown",
      "source": [
        "Pivot on Two Variables\n",
        "\n",
        "*Database_Name*.pivot_table(values=x, index=y, columns=z)"
      ],
      "metadata": {
        "id": "Xu7XD3NyEnqd"
      }
    },
    {
      "cell_type": "markdown",
      "source": [
        "Filling missing values in pivot table\n",
        "\n",
        "*Database_Name*.pivot_table(values=x, index=y, columns=z, fill_value=0)"
      ],
      "metadata": {
        "id": "Asntoj0hE6zb"
      }
    },
    {
      "cell_type": "markdown",
      "source": [
        "Summing with pivot tables\n",
        "\n",
        "*Database_Name*.pivot_table(values=x, index=y, columns=z, fill_value=0, margins=True)"
      ],
      "metadata": {
        "id": "lvKs_M14FT8V"
      }
    },
    {
      "cell_type": "code",
      "source": [],
      "metadata": {
        "id": "r_OXtQfqAJGq"
      },
      "execution_count": null,
      "outputs": []
    },
    {
      "cell_type": "markdown",
      "source": [
        "##Slicing and Indexing DataFrames"
      ],
      "metadata": {
        "id": "7nYvsWoAG0e4"
      }
    },
    {
      "cell_type": "markdown",
      "source": [
        "Setting a column as the index\n",
        "\n",
        "*New_Database_Name* = *Database_Name*.set_index(x)\n",
        "\n",
        "Removing an index\n",
        "\n",
        "*New_Database_Name*.reset_index()\n",
        "\n",
        "Dropping an Index (Remove indexed Column) \n",
        "\n",
        "*New_Database_Name*.reset_index(drop=True)\n",
        "\n",
        "Index can be used to make subsettting easier\n",
        "\n",
        "*Database_Name_ind.loc[[x,y]]\n",
        "\n",
        "Sort by index values\n",
        "\n",
        "*Database_Name*.sort_index()\n",
        "\n",
        "Controlling Sort\n",
        "*Database_Name*.sort_index(level=[x,y], ascending=[True, False])\n",
        "\n",
        "**Indexes violate \"tidy data\" principles**\n",
        "\n",
        "**You need to learn 2 syntaxes**\n"
      ],
      "metadata": {
        "id": "1vnqDB_zHBV0"
      }
    },
    {
      "cell_type": "code",
      "source": [],
      "metadata": {
        "id": "4ejsZrYWG7o5"
      },
      "execution_count": null,
      "outputs": []
    }
  ]
}