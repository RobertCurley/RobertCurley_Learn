{
  "nbformat": 4,
  "nbformat_minor": 0,
  "metadata": {
    "colab": {
      "provenance": [],
      "authorship_tag": "ABX9TyPGD+wTbzJ2qCuASXkVqeNG",
      "include_colab_link": true
    },
    "kernelspec": {
      "name": "python3",
      "display_name": "Python 3"
    },
    "language_info": {
      "name": "python"
    }
  },
  "cells": [
    {
      "cell_type": "markdown",
      "metadata": {
        "id": "view-in-github",
        "colab_type": "text"
      },
      "source": [
        "<a href=\"https://colab.research.google.com/github/RobertCurley/RobertCurley_Learn/blob/main/Learn.ipynb\" target=\"_parent\"><img src=\"https://colab.research.google.com/assets/colab-badge.svg\" alt=\"Open In Colab\"/></a>"
      ]
    },
    {
      "cell_type": "code",
      "execution_count": 21,
      "metadata": {
        "colab": {
          "base_uri": "https://localhost:8080/"
        },
        "id": "rb-E8zCxsFmJ",
        "outputId": "36741e1b-dad3-4039-95c5-f63fd54fee6d"
      },
      "outputs": [
        {
          "output_type": "stream",
          "name": "stdout",
          "text": [
            "Hello World\n"
          ]
        }
      ],
      "source": [
        "# Write Hello World\n",
        "print(\"Hello World\")"
      ]
    },
    {
      "cell_type": "markdown",
      "source": [
        "## Basic Calculations with Python"
      ],
      "metadata": {
        "id": "ta7BVUDbUVa7"
      }
    },
    {
      "cell_type": "code",
      "source": [
        "# Addition \n",
        "# What is 5 plus 5?\n",
        "print(5 + 5)"
      ],
      "metadata": {
        "colab": {
          "base_uri": "https://localhost:8080/"
        },
        "id": "V_Zm1jG0Tdnz",
        "outputId": "7f89e4a2-4978-471b-c686-47b8e9eed378"
      },
      "execution_count": 22,
      "outputs": [
        {
          "output_type": "stream",
          "name": "stdout",
          "text": [
            "10\n"
          ]
        }
      ]
    },
    {
      "cell_type": "code",
      "source": [
        "# Substraction \n",
        "# What is 15 minus 5?\n",
        "print( 5 -5)"
      ],
      "metadata": {
        "colab": {
          "base_uri": "https://localhost:8080/"
        },
        "id": "TJqXRXn1UfKm",
        "outputId": "b60cf791-66e8-4454-f5fb-d981ee1e6210"
      },
      "execution_count": 23,
      "outputs": [
        {
          "output_type": "stream",
          "name": "stdout",
          "text": [
            "0\n"
          ]
        }
      ]
    },
    {
      "cell_type": "code",
      "source": [
        "# Multiplication \n",
        "#What is 5 multiplied by 10?\n",
        "print(5 * 10)"
      ],
      "metadata": {
        "colab": {
          "base_uri": "https://localhost:8080/"
        },
        "id": "lkoXl2CeUnDm",
        "outputId": "7d1feb6b-e3b7-4a11-ff74-190b19ec3926"
      },
      "execution_count": 24,
      "outputs": [
        {
          "output_type": "stream",
          "name": "stdout",
          "text": [
            "50\n"
          ]
        }
      ]
    },
    {
      "cell_type": "code",
      "source": [
        "# Division (What is 150 divided by 10?)\n",
        "print(150 / 10)"
      ],
      "metadata": {
        "colab": {
          "base_uri": "https://localhost:8080/"
        },
        "id": "lfcZgBtsU6wG",
        "outputId": "aea9827e-5821-482b-b5e1-481d3c24c025"
      },
      "execution_count": 25,
      "outputs": [
        {
          "output_type": "stream",
          "name": "stdout",
          "text": [
            "15.0\n"
          ]
        }
      ]
    },
    {
      "cell_type": "code",
      "source": [
        "# Modulo {Returns the remainder of a division ie: 18 % 7, -> 7 multipied by 2 = 14 -> 18 - 14 = 4 therefore 18 % 7 = 4}\n",
        "#What is the remainder of 16 divided by 7?\n",
        "print(16 % 7)"
      ],
      "metadata": {
        "colab": {
          "base_uri": "https://localhost:8080/"
        },
        "id": "l0IE9uPYVDvO",
        "outputId": "76a30540-b9f9-4a9e-9671-925b2d0da7ca"
      },
      "execution_count": 26,
      "outputs": [
        {
          "output_type": "stream",
          "name": "stdout",
          "text": [
            "2\n"
          ]
        }
      ]
    },
    {
      "cell_type": "code",
      "source": [
        "# Exponentiation: x to the power of y\n",
        "#What is 10 to the power of 2?\n",
        "print(10 ** 2)"
      ],
      "metadata": {
        "colab": {
          "base_uri": "https://localhost:8080/"
        },
        "id": "tYxl7IQ6VzbN",
        "outputId": "a0467722-690c-4c2e-f253-108181604f01"
      },
      "execution_count": 27,
      "outputs": [
        {
          "output_type": "stream",
          "name": "stdout",
          "text": [
            "100\n"
          ]
        }
      ]
    },
    {
      "cell_type": "markdown",
      "source": [
        "# Creating Variable"
      ],
      "metadata": {
        "id": "06uEhVgFWehS"
      }
    },
    {
      "cell_type": "code",
      "source": [
        "#  Create a variable for the salary of a person earning €100,000\n",
        "Person_A_Salary = 100000\n",
        "print(Person_A_Salary)"
      ],
      "metadata": {
        "colab": {
          "base_uri": "https://localhost:8080/"
        },
        "id": "nuDz9zgsWHdN",
        "outputId": "4234dc4b-246e-444a-beca-fb60d544a266"
      },
      "execution_count": 28,
      "outputs": [
        {
          "output_type": "stream",
          "name": "stdout",
          "text": [
            "100000\n"
          ]
        }
      ]
    },
    {
      "cell_type": "markdown",
      "source": [
        "# Calculating Variables"
      ],
      "metadata": {
        "id": "DtZeS6SIXDFG"
      }
    },
    {
      "cell_type": "code",
      "source": [
        "# Creating Variables\n",
        "Person_B_Salary = 1000\n",
        "Person_C_Salary = 2000"
      ],
      "metadata": {
        "id": "l3PdsHm9W5bH"
      },
      "execution_count": 29,
      "outputs": []
    },
    {
      "cell_type": "code",
      "source": [
        "# Add Person_A_Salary and Person_B_Salary and Person_C_Salary and save as Total_Salary\n",
        "Total_Salary = Person_A_Salary + Person_B_Salary + Person_C_Salary\n",
        "print(Total_Salary)"
      ],
      "metadata": {
        "colab": {
          "base_uri": "https://localhost:8080/"
        },
        "id": "NjBISCthXZCt",
        "outputId": "abcb868e-ac20-4611-8e4f-06257021ec8f"
      },
      "execution_count": 30,
      "outputs": [
        {
          "output_type": "stream",
          "name": "stdout",
          "text": [
            "103000\n"
          ]
        }
      ]
    },
    {
      "cell_type": "code",
      "source": [
        "# What percentage of Total_Salary is Person A?\n",
        "print((Person_B_Salary / Total_Salary)*100)"
      ],
      "metadata": {
        "colab": {
          "base_uri": "https://localhost:8080/"
        },
        "id": "XlY8cLnGXuUW",
        "outputId": "80c7a91e-f88d-45f6-aceb-1bec86e79d47"
      },
      "execution_count": 31,
      "outputs": [
        {
          "output_type": "stream",
          "name": "stdout",
          "text": [
            "0.9708737864077669\n"
          ]
        }
      ]
    },
    {
      "cell_type": "markdown",
      "source": [
        "# Data Types"
      ],
      "metadata": {
        "id": "RIwPVblZYLkC"
      }
    },
    {
      "cell_type": "code",
      "source": [
        "# float: Number with Decimals\n",
        "x = 1.1\n",
        "print(type(x))"
      ],
      "metadata": {
        "colab": {
          "base_uri": "https://localhost:8080/"
        },
        "id": "eYhlhdseYH0N",
        "outputId": "e8c73930-5486-42e7-acfa-ea39d8199b59"
      },
      "execution_count": 32,
      "outputs": [
        {
          "output_type": "stream",
          "name": "stdout",
          "text": [
            "<class 'float'>\n"
          ]
        }
      ]
    },
    {
      "cell_type": "code",
      "source": [
        "# int: Number with no Decimals\n",
        "y = 2\n",
        "print(type(y))"
      ],
      "metadata": {
        "colab": {
          "base_uri": "https://localhost:8080/"
        },
        "id": "atpsfJ1-YiIl",
        "outputId": "0c6959e3-16ae-490d-dcdb-c4089fee46bd"
      },
      "execution_count": 36,
      "outputs": [
        {
          "output_type": "stream",
          "name": "stdout",
          "text": [
            "<class 'int'>\n"
          ]
        }
      ]
    },
    {
      "cell_type": "code",
      "source": [
        "# str: Text\n",
        "B = \"Hello World\"\n",
        "print(type(B))"
      ],
      "metadata": {
        "colab": {
          "base_uri": "https://localhost:8080/"
        },
        "id": "gnSPpnGiZacq",
        "outputId": "b2eec38d-0fd6-4fd3-a252-22ec1d48446a"
      },
      "execution_count": 37,
      "outputs": [
        {
          "output_type": "stream",
          "name": "stdout",
          "text": [
            "<class 'str'>\n"
          ]
        }
      ]
    },
    {
      "cell_type": "code",
      "source": [
        "# bool: True or False statement\n",
        "Z = True\n",
        "A = False\n",
        "print(type(Z))\n",
        "print(type(A))"
      ],
      "metadata": {
        "colab": {
          "base_uri": "https://localhost:8080/"
        },
        "id": "AifE6Zh-Zt80",
        "outputId": "58947921-2b63-4f4d-bc83-c74d503bd335"
      },
      "execution_count": 41,
      "outputs": [
        {
          "output_type": "stream",
          "name": "stdout",
          "text": [
            "<class 'bool'>\n",
            "<class 'bool'>\n"
          ]
        }
      ]
    },
    {
      "cell_type": "markdown",
      "source": [
        "## **Lists**\n",
        "\n",
        "Created by using Square Brackers [  ]"
      ],
      "metadata": {
        "id": "pG9P2OHgaaRS"
      }
    },
    {
      "cell_type": "code",
      "source": [
        "# Create a list for the size of rooms in a house\n",
        "\n",
        "# List of rooms and there corresponding size\n",
        "hall = 5.2\n",
        "kitchen = 20.1\n",
        "bedroom = 15.5\n",
        "bathroom = 10.6\n",
        "\n",
        "House = [hall, kitchen, bedroom, bathroom]\n",
        "\n",
        "print(House)"
      ],
      "metadata": {
        "colab": {
          "base_uri": "https://localhost:8080/"
        },
        "id": "hemraLFpaTnk",
        "outputId": "14b32210-0fc6-4a51-ce50-04f4bfe96866"
      },
      "execution_count": 44,
      "outputs": [
        {
          "output_type": "stream",
          "name": "stdout",
          "text": [
            "[5.2, 20.1, 15.5, 10.6]\n"
          ]
        }
      ]
    },
    {
      "cell_type": "code",
      "source": [],
      "metadata": {
        "id": "YsDOzuJte-bs"
      },
      "execution_count": null,
      "outputs": []
    }
  ]
}